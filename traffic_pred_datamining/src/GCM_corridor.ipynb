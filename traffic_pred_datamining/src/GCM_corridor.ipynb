{
 "cells": [
  {
   "cell_type": "markdown",
   "metadata": {
    "colab_type": "text",
    "id": "IV_Q1YMd-zJO"
   },
   "source": [
    "# Traffic Congestion Forecast"
   ]
  },
  {
   "cell_type": "code",
   "execution_count": 15,
   "metadata": {
    "colab": {},
    "colab_type": "code",
    "id": "Jr8QOE1Vxqq9"
   },
   "outputs": [
    {
     "name": "stdout",
     "output_type": "stream",
     "text": [
      "Once deleted, variables cannot be recovered. Proceed (y/[n])? y\n"
     ]
    }
   ],
   "source": [
    "%reset"
   ]
  },
  {
   "cell_type": "code",
   "execution_count": 16,
   "metadata": {
    "colab": {},
    "colab_type": "code",
    "id": "ed7X8C6Cr5v6"
   },
   "outputs": [],
   "source": [
    "import numpy as np\n",
    "import pandas as pd\n",
    "import sys,os,math\n",
    "import time\n",
    "from datetime import datetime\n",
    "from sklearn import preprocessing\n",
    "from keras.utils import to_categorical"
   ]
  },
  {
   "cell_type": "code",
   "execution_count": 17,
   "metadata": {
    "colab": {},
    "colab_type": "code",
    "id": "TrY3McP1ucXy"
   },
   "outputs": [],
   "source": [
    "filename = '../traffic_dataset/train_set/0707/0707_seg_1.txt'\n",
    "\n",
    "Data = pd.read_csv(filename, header = None, dtype = np.unicode_)\n",
    "Data = Data.drop([11], axis = 1)\n",
    "Data.columns = ['date','time','direction','type','linkID','length','travelTime','volumn','speed','occupancy','congestionLevel']\n",
    "Data = Data.drop(columns = ['date'])\n",
    "Data = Data.dropna()\n",
    "Data = Data[:1000]"
   ]
  },
  {
   "cell_type": "code",
   "execution_count": 18,
   "metadata": {},
   "outputs": [
    {
     "data": {
      "text/plain": [
       "1000"
      ]
     },
     "execution_count": 18,
     "metadata": {},
     "output_type": "execute_result"
    }
   ],
   "source": [
    "len(Data)"
   ]
  },
  {
   "cell_type": "markdown",
   "metadata": {
    "colab_type": "text",
    "id": "KMimtxNvNS3y"
   },
   "source": [
    "### Vectorize the parameters"
   ]
  },
  {
   "cell_type": "code",
   "execution_count": 19,
   "metadata": {
    "colab": {},
    "colab_type": "code",
    "id": "cZ-1vsv76EQr"
   },
   "outputs": [],
   "source": [
    "Data.length = np.float64(Data.length)\n",
    "Data.travelTime = np.float64(Data.travelTime)\n",
    "Data.volumn = np.float64(Data.volumn)\n",
    "Data.speed = np.float64(Data.speed)\n",
    "Data.occupancy = np.float64(Data.occupancy)\n",
    "\n",
    "Data = Data[Data['length'] >= 0]\n",
    "Data = Data[Data['travelTime'] >= 0]\n",
    "Data = Data[Data['volumn'] >= 0]\n",
    "Data = Data[Data['speed'] >= 0]\n",
    "\n",
    "# Data.length = preprocessing.scale(Data.length.values.reshape(-1,1))\n",
    "# Data.travelTime = preprocessing.scale(Data.travelTime.values.reshape(-1,1))\n",
    "# Data.volumn = preprocessing.scale(Data.volumn.values.reshape(-1,1))\n",
    "# Data.speed =  preprocessing.scale(Data.speed.values.reshape(-1,1))"
   ]
  },
  {
   "cell_type": "code",
   "execution_count": 20,
   "metadata": {
    "colab": {},
    "colab_type": "code",
    "id": "P1zlPMbzIFIH"
   },
   "outputs": [],
   "source": [
    "# Data.occupancy.value_counts()\n",
    "Data = Data.reset_index()\n",
    "occpcy_mode = np.float64(Data[Data['occupancy'] >= 0 ].occupancy.mode())\n",
    "for j in range(len(Data)):\n",
    "    if Data.loc[j,'occupancy'] < 0.:\n",
    "        Data.loc[j, 'occupancy'] = occpcy_mode\n",
    "Data.occupancy =  preprocessing.scale(Data.occupancy.values.reshape(-1,1))\n",
    "Data = Data.drop(columns = ['index'])"
   ]
  },
  {
   "cell_type": "code",
   "execution_count": 21,
   "metadata": {
    "colab": {},
    "colab_type": "code",
    "id": "mCOY6R8097F3"
   },
   "outputs": [
    {
     "name": "stdout",
     "output_type": "stream",
     "text": [
      "959%\r"
     ]
    }
   ],
   "source": [
    "for i in range(len(Data)):\n",
    "    Time = Data.loc[i,'time']\n",
    "    time_strp = datetime.strptime(Time, '%H%M')\n",
    "    Data.loc[i,'time'] = time_strp.hour + time_strp.minute/60\n",
    "  \n",
    "    sys.stdout.write('   \\r')\n",
    "    sys.stdout.flush()\n",
    "    sys.stdout.write('{}%\\r'.format(i))\n",
    "    sys.stdout.flush()\n",
    "    time.sleep(0.01)\n",
    "    \n",
    "Data.time = preprocessing.normalize(Data.time.values.reshape(-1,1), norm = 'max')"
   ]
  },
  {
   "cell_type": "code",
   "execution_count": 22,
   "metadata": {
    "colab": {},
    "colab_type": "code",
    "id": "dQz5tF-FTTef"
   },
   "outputs": [],
   "source": [
    "ID = list(Data.linkID.unique())\n",
    "Dir = list(Data.direction.unique())\n",
    "typ = list(Data.type.unique())\n",
    "conLevel = list(Data.congestionLevel.unique())\n",
    "\n",
    "# ID_dict = dict(zip(ID, np.arange(len(ID))))\n",
    "# Dir_dict = dict(zip(Dir, np.arange(len(Dir))))\n",
    "# typ_dict = dict(zip(typ, np.arange(len(typ))))\n",
    "# conLevel_dict = dict(zip(conLevel, np.arange(len(conLevel))))\n",
    "\n",
    "Data['direction'] = Data['direction'].map({'EAST_BOUND':0, 'WEST_BOUND':1, \n",
    "                                               'SOUTH_BOUND':2, 'NORTH_BOUND':3, 'UNKNOWN_DIRECTION_TYPE':4}).astype(int)\n",
    "Data['type'] = Data['type'].map({'FREEWAY': 0,'RAMP': 1,'ARTERIAL': 2,'LOCAL_ROAD':3, \n",
    "                                     'FREEWAY_REVERSIBLE': 4,'FREEWAY_EXPRESS': 5}).astype(int)\n",
    "Data['congestionLevel'] = Data['congestionLevel'].map({'NON_CONGESTION': 0,'LIGHT_CONGESTION': 1,'MEDIUM_CONGESTION': 2,\n",
    "                                                         'HEAVY_CONGESTION': 3,'UNKNOWN_CONGESTION_LEVEL': 4 }).astype(int)                                     \n",
    "Data['linkID'] = Data['linkID'].map(dict(zip(ID, np.arange(len(ID))))).astype(int)\n",
    "\n",
    "\n",
    "#     Data['direct'] = Data['direct'].map(dict(zip(Dir, np.arange(len(Dir))))).astype(int)\n",
    "#     Data['type'] = Data['type'].map(dict(zip(typ, np.arange(len(typ))))).astype(int)\n",
    "#     Data['congestionLevel'] = Data['congestionLevel'].map(dict(zip(conLevel, np.arange(len(conLevel))))).astype(int)\n",
    "#     Data['linkID'] = Data['linkID'].map(ID_dict).astype(int)\n",
    "#     Data['direct'] = Data['direct'].map(Dir_dict).astype(int)\n",
    "#     Data['type'] = Data['type'].map(typ_dict).astype(int)\n",
    "#     Data['congestionLevel'] = Data['congestionLevel'].map(conLevel_dict).astype(int)\n",
    "Data = Data.drop(Data[Data['congestionLevel'] == 4].index)"
   ]
  },
  {
   "cell_type": "code",
   "execution_count": 23,
   "metadata": {},
   "outputs": [],
   "source": [
    "dirt_lst = list(Data.direction)\n",
    "typ_lst = list(Data.type)\n",
    "lkID_lst = list(Data.linkID)\n",
    "conLevel_lst = list(Data.congestionLevel)\n",
    "\n",
    "# test_data = [1, 3, 2, 0, 3, 2, 2, 1, 0, 1]\n",
    "def get_onehot(my_list):\n",
    "    \n",
    "    data = np.array(my_list)\n",
    "    encoded = to_categorical(data)\n",
    "    return encoded\n",
    "\n",
    "# dirt_matrx = get_onehot(dirt_lst)\n",
    "# typ_matrx = get_onehot(typ_lst)\n",
    "# lkID_matrx = get_onehot(lkID_lst)\n",
    "conLevel_matrx = get_onehot(conLevel_lst)"
   ]
  },
  {
   "cell_type": "code",
   "execution_count": 10,
   "metadata": {},
   "outputs": [
    {
     "data": {
      "text/plain": [
       "array([[1., 0., 0., 0.],\n",
       "       [1., 0., 0., 0.],\n",
       "       [1., 0., 0., 0.],\n",
       "       ...,\n",
       "       [1., 0., 0., 0.],\n",
       "       [1., 0., 0., 0.],\n",
       "       [1., 0., 0., 0.]], dtype=float32)"
      ]
     },
     "execution_count": 10,
     "metadata": {},
     "output_type": "execute_result"
    }
   ],
   "source": [
    "conLevel_matrx"
   ]
  },
  {
   "cell_type": "code",
   "execution_count": 25,
   "metadata": {},
   "outputs": [
    {
     "data": {
      "text/html": [
       "<div>\n",
       "<style scoped>\n",
       "    .dataframe tbody tr th:only-of-type {\n",
       "        vertical-align: middle;\n",
       "    }\n",
       "\n",
       "    .dataframe tbody tr th {\n",
       "        vertical-align: top;\n",
       "    }\n",
       "\n",
       "    .dataframe thead th {\n",
       "        text-align: right;\n",
       "    }\n",
       "</style>\n",
       "<table border=\"1\" class=\"dataframe\">\n",
       "  <thead>\n",
       "    <tr style=\"text-align: right;\">\n",
       "      <th></th>\n",
       "      <th>time</th>\n",
       "      <th>direction</th>\n",
       "      <th>type</th>\n",
       "      <th>linkID</th>\n",
       "      <th>length</th>\n",
       "      <th>travelTime</th>\n",
       "      <th>volumn</th>\n",
       "      <th>speed</th>\n",
       "      <th>occupancy</th>\n",
       "      <th>congestionLevel</th>\n",
       "    </tr>\n",
       "  </thead>\n",
       "  <tbody>\n",
       "    <tr>\n",
       "      <th>0</th>\n",
       "      <td>0.0</td>\n",
       "      <td>3</td>\n",
       "      <td>0</td>\n",
       "      <td>0</td>\n",
       "      <td>1268.0</td>\n",
       "      <td>40.0</td>\n",
       "      <td>218.0</td>\n",
       "      <td>31.292915</td>\n",
       "      <td>-0.386292</td>\n",
       "      <td>0</td>\n",
       "    </tr>\n",
       "    <tr>\n",
       "      <th>1</th>\n",
       "      <td>0.0</td>\n",
       "      <td>2</td>\n",
       "      <td>0</td>\n",
       "      <td>1</td>\n",
       "      <td>476.0</td>\n",
       "      <td>17.0</td>\n",
       "      <td>150.0</td>\n",
       "      <td>26.822500</td>\n",
       "      <td>-1.260048</td>\n",
       "      <td>0</td>\n",
       "    </tr>\n",
       "    <tr>\n",
       "      <th>2</th>\n",
       "      <td>0.0</td>\n",
       "      <td>1</td>\n",
       "      <td>0</td>\n",
       "      <td>2</td>\n",
       "      <td>4124.0</td>\n",
       "      <td>150.0</td>\n",
       "      <td>0.0</td>\n",
       "      <td>27.000000</td>\n",
       "      <td>0.036673</td>\n",
       "      <td>0</td>\n",
       "    </tr>\n",
       "    <tr>\n",
       "      <th>3</th>\n",
       "      <td>0.0</td>\n",
       "      <td>0</td>\n",
       "      <td>0</td>\n",
       "      <td>3</td>\n",
       "      <td>9718.0</td>\n",
       "      <td>397.0</td>\n",
       "      <td>0.0</td>\n",
       "      <td>24.000000</td>\n",
       "      <td>0.036673</td>\n",
       "      <td>1</td>\n",
       "    </tr>\n",
       "    <tr>\n",
       "      <th>4</th>\n",
       "      <td>0.0</td>\n",
       "      <td>1</td>\n",
       "      <td>0</td>\n",
       "      <td>4</td>\n",
       "      <td>830.0</td>\n",
       "      <td>30.0</td>\n",
       "      <td>863.0</td>\n",
       "      <td>26.822500</td>\n",
       "      <td>1.311133</td>\n",
       "      <td>0</td>\n",
       "    </tr>\n",
       "  </tbody>\n",
       "</table>\n",
       "</div>"
      ],
      "text/plain": [
       "   time  direction  type  linkID  length  travelTime  volumn      speed  \\\n",
       "0   0.0          3     0       0  1268.0        40.0   218.0  31.292915   \n",
       "1   0.0          2     0       1   476.0        17.0   150.0  26.822500   \n",
       "2   0.0          1     0       2  4124.0       150.0     0.0  27.000000   \n",
       "3   0.0          0     0       3  9718.0       397.0     0.0  24.000000   \n",
       "4   0.0          1     0       4   830.0        30.0   863.0  26.822500   \n",
       "\n",
       "   occupancy  congestionLevel  \n",
       "0  -0.386292                0  \n",
       "1  -1.260048                0  \n",
       "2   0.036673                0  \n",
       "3   0.036673                1  \n",
       "4   1.311133                0  "
      ]
     },
     "execution_count": 25,
     "metadata": {},
     "output_type": "execute_result"
    }
   ],
   "source": [
    "Data.head()"
   ]
  },
  {
   "cell_type": "code",
   "execution_count": 26,
   "metadata": {},
   "outputs": [
    {
     "data": {
      "text/plain": [
       "0    0.0\n",
       "1    0.0\n",
       "2    0.0\n",
       "3    0.0\n",
       "4    0.0\n",
       "Name: time, dtype: float64"
      ]
     },
     "execution_count": 26,
     "metadata": {},
     "output_type": "execute_result"
    }
   ],
   "source": [
    "Data.time.head()"
   ]
  },
  {
   "cell_type": "code",
   "execution_count": null,
   "metadata": {},
   "outputs": [],
   "source": []
  },
  {
   "cell_type": "code",
   "execution_count": null,
   "metadata": {},
   "outputs": [],
   "source": []
  }
 ],
 "metadata": {
  "accelerator": "GPU",
  "colab": {
   "collapsed_sections": [],
   "name": "GCM_corridor.ipynb",
   "provenance": [],
   "toc_visible": true,
   "version": "0.3.2"
  },
  "kernelspec": {
   "display_name": "Python 3",
   "language": "python",
   "name": "python3"
  },
  "language_info": {
   "codemirror_mode": {
    "name": "ipython",
    "version": 3
   },
   "file_extension": ".py",
   "mimetype": "text/x-python",
   "name": "python",
   "nbconvert_exporter": "python",
   "pygments_lexer": "ipython3",
   "version": "3.6.4"
  }
 },
 "nbformat": 4,
 "nbformat_minor": 1
}
